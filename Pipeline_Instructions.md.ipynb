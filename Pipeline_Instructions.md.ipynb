{
 "cells": [
  {
   "cell_type": "markdown",
   "id": "b7e5e290",
   "metadata": {},
   "source": [
    "# Pipeline Instructions\n",
    "\n",
    "The below steps will allow you to construct the pipeline to analyze the data from the published Sunshine list.\n",
    "\n",
    "*insert pipeline image*\n",
    "\n",
    "\n",
    "\n",
    "## Step 1 - Tools installations \n",
    "\n",
    "- Ensure you have Jupyter Notebook installed\n",
    "- Ensure that you pgAdmin 4 installed\n",
    "\n",
    "## Step 2 - Database Creation\n",
    "1) Create a database called \"Final_Project_SunshineList\"\n",
    "2) Download the raw CSV files for Statistics Canada.  \n",
    "    The files are:\n",
    "    1) OntarioCPI_databaseLoadingData.csv\n",
    "    2) StatsCan_Male_25to54.csv\n",
    "    3) StatsCan_Male_55Older.csv\n",
    "    4) StatsCan_Female_25to54.csv\n",
    "    5) StatsCan_Female_55Older.csv\n",
    "3) Create a folder called \"Raw Data CSV files\" to house all the raw data CSV files\n",
    "4) Run the Jupyter Notebook file called \"StatsCan_Ontario_cleansing\". This will create two tables \"cpi_table\" and \"ontario_wage_table\".\n",
    "5) Download the raw CSV files for the Sunshine list.\n",
    "    The files are:\n",
    "    1) Sunshine-2020-en-utf-8-2022-01-10.csv\n",
    "    2) SunShine.csv\n",
    "6) Run the Jupyter Notebook file called \"SunshineList_DataCleansing\". This will create two tables \"sunshine_table\" and \"ml_first_names\". \n",
    "\n",
    "## Step 3 - Machine Learning Model\n",
    "1) Run the Jupyter Notebook file called \"Machine_Learning_Model_Gender_Prediction\". This will create a table called \"sunshine_unique_first_name\"\n",
    "\n",
    "## Step 4 - Update SQL Database\n",
    "1) Run the SQL file called \"SunshineList_UpdateCleanseShortCut.sql\". This will update the sunshine table gender labels, create/update some additional columns for the tableau Dashboard and do some additional cleansing to the dataset.\n",
    "\n",
    "      NOTE: the \"SunshineList_UpdateCleanseShortCut.sql\" can be used as a macro(s) in the SunshineList.sql file, which is         the analysis file used to update and discover the addtional cleansing required.\n",
    "\n",
    "## Step 5 - Export Database tables for Tableau Public\n",
    "1) Create a folder called \"Resources\"\n",
    "2) Create a subfolder in the \"Resources\" folder called \"TABLEAU_csv\" to house all the SQL tables that will be exported as CSV files\n",
    "2) In pgAdmin4 export the following tables into CSV\n",
    "*insert SQL tables image*\n",
    "\n",
    "3) Name tables as the following:\n",
    "*insert the Tableau CSV image*\n",
    "\n",
    "## Step 6 - Open Dashboard\n",
    "The database is static. So there is no need to refresh the data model in Tableau to use the Dashboard. Should additional data be added, such as a new published Sunshine list, simply amend the cleansing file to incorporate the new year and run it through the remaining steps\n",
    "\n"
   ]
  }
 ],
 "metadata": {
  "kernelspec": {
   "display_name": "PythonData",
   "language": "python",
   "name": "pythondata"
  },
  "language_info": {
   "codemirror_mode": {
    "name": "ipython",
    "version": 3
   },
   "file_extension": ".py",
   "mimetype": "text/x-python",
   "name": "python",
   "nbconvert_exporter": "python",
   "pygments_lexer": "ipython3",
   "version": "3.7.10"
  }
 },
 "nbformat": 4,
 "nbformat_minor": 5
}
